{
 "cells": [
  {
   "cell_type": "markdown",
   "metadata": {},
   "source": [
    "# Probabilities and Statistics\n",
    "\n",
    "Tutorial 1 of the ASTR3110 course at Macquarie University.\n",
    "\n",
    "## Learning outcomes from this tutorial\n",
    "\n",
    " * Understand what is meant by discrete and continuous probability\n",
    " * Learn how to manipulate probabilities of events\n",
    " * Know the moments used to characterise probability distributions\n",
    " * Undertand the properties of the most comon distributions\n",
    " * Apply your knowledge to toy dataset"
   ]
  },
  {
   "cell_type": "markdown",
   "metadata": {},
   "source": [
    "## Introduction\n",
    "\n",
    "The most profound discoveries in modern observational astrophysics come from large surveys, often taking a data-fusion approach. When dealing with these large datasets, probabilities and statistics are required to:\n",
    "\n",
    " * Detect signals in the noise\n",
    " * Find and investigate correlations and structure\n",
    " * Test a theory or hypothesis\n",
    " * Fit models to data and estimate parameters\n",
    " * Distinguish between competing models\n",
    " \n",
    "Unlike many other data-intensive fields, astronomical data is fixed - we cannot re-run our experiments (e.g., forming starts, merging galaxies, supernova) and often only have single observations to rely on. Instead we have to assume that observations of different objects constitute a reasonable sample, and we can draw reasonable conclusions from a statistical analysis."
   ]
  },
  {
   "cell_type": "markdown",
   "metadata": {},
   "source": [
    "## Probability\n",
    "\n",
    "There are two philosophies that explain probability:\n",
    "\n",
    " * **Frequentist:** Probabilities are measurable frequencies assigned to specific events, i.e., events are likely to re-occur on a certain cadence.\n",
    " \n",
    " * **Bayesian:** Probability is a 'degree of belief' in the outcome of an event, allocated by an observer based on the available evidence (including prior belief).\n",
    " \n",
    "In this tutorial we will be covering the *frequentist* philosophy and moving on to the (more powerful) Bayesian methods later in the course.\n",
    "\n",
    "### Maths and notation of probabilities\n",
    "\n",
    "A *discrete* probability can be assigned to an individual event $i$ so that $P_i$ is the probability of the $i^{th}$ event occuring. A *continuous* probability $P(x)$ is the probability that random variable $x$ occurs in a process. Probabilities obey mathematical rules:\n",
    "\n",
    " 1. **Range of Probabilities:** The probability of an event is a real number between zero and one.\n",
    " \n",
    " $0 \\leq P(x) \\leq 1$\n",
    " \n",
    " \n",
    " 2. **Sum Rule:** Discrete probabilities sum to one.\n",
    " \n",
    " $\\sum_i P_i = 1$.\n",
    " \n",
    " For a random variable $x$ that can take any value on a continuous range, the sum becomes an integral\n",
    " \n",
    " $\\int_{-\\infty}^{+\\infty} dx ~ p(x) = 1$,\n",
    " \n",
    " where $p(x)$ is the probability density function (units of $1/x$).\n",
    " \n",
    " \n",
    " 3. **Addition Rule**: For *mutually exclusive* events $x_1, x_2, \\ldots x_n$, the probability that $x_1$ **or** $x_2$ occurs is \n",
    " \n",
    " $P(x_1 + x_2) = P(x_1) + P(x_2)$.\n",
    " \n",
    " \n",
    " 4. **Multiplication Rule**: The probability of two events $x$ **and** $y$ occuring is\n",
    " \n",
    " $P(x,y) = P(x|y) P(y) = P(y|x) P(x)$.\n",
    " \n",
    "Here $P(x|y)$ is the *conditional* probability, which is the probability of $x$ given that $y$ has occured. If the events are mutual exclusive this simplifies to \n",
    " \n",
    " $P(x,y) = P(x) P(y)$.\n"
   ]
  },
  {
   "cell_type": "markdown",
   "metadata": {},
   "source": [
    "## Exercise in event-based probabilities\n",
    "\n",
    "This excercise is based on [notes](https://github.com/norvig/pytudes/blob/master/ipynb/Probability.ipynb) by [Peter Norvig](http://norvig.com/), the Director of Research at Google. Check out his personal pages and GitHub repository for a host of other tutorials on interesting topics. A free online textbook on probability theory is available [here](http://www.dartmouth.edu/~chance/teaching_aids/books_articles/probability_book/amsbook.mac.pdf) in PDF form.\n",
    "\n",
    "If you have not already done so, now is the time to setup Google colab and link it to your Google Drive account.\n",
    "\n",
    "### 1. Rolling the dice\n",
    "\n",
    "Rolling a 6-sided dice illustrates some simple terms in probability theory:\n",
    "\n",
    " * **Experiment:** the act of rolling the die (or dice)\n",
    " * **Oucome:** the result of the experiment (which number faces up)\n",
    " * **Sample Space:** the set of all possible outcomes ```{1, 2, 3, 4, 5, 6}```\n",
    " * **Event:** a subset of outcomes we are interested in e.g., ```{2, 4, 6}```\n",
    " * **Probability:** number between ```{0, 1}``` representing certainty of event occuring\n",
    " \n",
    "Probability of an event with respect to a sample space is the number of favorable cases (outcomes from the sample space that are in the event) divided by the total number of cases in the sample space. (This assumes that all outcomes in the sample space are equally likely.) For example the probability of rolling an even number on a 6-sided die is 3/5 = 1/2.\n",
    "\n",
    "We can define a probability function in code:"
   ]
  },
  {
   "cell_type": "code",
   "execution_count": 8,
   "metadata": {},
   "outputs": [],
   "source": [
    "from fractions import Fraction\n",
    "\n",
    "def P(event, sampleSpace): \n",
    "    \"\"\"\n",
    "    Return the probability of an event, given a sample space \n",
    "    with outcomes of equal probability.\n",
    "    \"\"\"\n",
    "    \n",
    "    # Only consider valid events\n",
    "    validEvents = event & sampleSpace\n",
    "    \n",
    "    # Returns answers as proper fractions\n",
    "    return Fraction(len(validEvents), len(sampleSpace))"
   ]
  },
  {
   "cell_type": "code",
   "execution_count": 10,
   "metadata": {},
   "outputs": [
    {
     "name": "stdout",
     "output_type": "stream",
     "text": [
      "Probability of an even throw is  1/2\n"
     ]
    }
   ],
   "source": [
    "# Test function on even throw of a die\n",
    "\n",
    "# Sample space\n",
    "D = {1, 2, 3, 4, 5, 6}\n",
    "\n",
    "# Event space\n",
    "E = {2, 4, 6}\n",
    "\n",
    "print(\"Probability of an even throw is \", P(E, D))"
   ]
  },
  {
   "cell_type": "markdown",
   "metadata": {},
   "source": [
    "### 2. Picking from Urns\n",
    "\n",
    "Another classical problem is predicting the likelihood of picking coloured balls from urns. \n",
    "\n",
    "*An urn contains 23 balls: 8 white, 6 blue, and 9 red. We select six balls at random (each possible selection is equally likely).* What is the probability of each of these possible outcomes:\n",
    "\n",
    " 1. all balls are red\n",
    " 2. 3 are blue, 2 are white, and 1 is red\n",
    " 3. exactly 4 balls are white\n",
    " \n",
    "So, an event is a set of 6 balls and the sample space is the set of *all possible 6-ball combinations*. Note that we have multiple balls of the same colour and we do not care about the order of the balls (although, we will care when counting to assess the probabilities).\n",
    "\n",
    "When counting, we will label each ball ```W1, W2,  ... W8```. For example, if you wanted to choose 2 white balls from the 8, and *cared* about the order then there are 8 ways to choose the first ball and 7 ways to choose the next and 6 the next, i.e., $8 \\times 7 \\times 6 = 336$ *permutations*. However, if we don't care about the order there are $(8 \\times 7 \\times 6) / (3 \\times 2 \\times 1)$ combinations (divide by 3!).\n",
    "\n",
    "Let's process this problem using python. We will be using *python set variable*, which are like lists (or arrays) but defined using curly braces. First define a function to define a set containing the contents of the urn:"
   ]
  },
  {
   "cell_type": "code",
   "execution_count": 75,
   "metadata": {},
   "outputs": [],
   "source": [
    "def cross(A, B):\n",
    "    \"\"\"\n",
    "    Return a set containing all combinations of items\n",
    "    from A and B.\n",
    "    \"\"\"\n",
    "    \n",
    "    # Use a 'comprehension' to make a nested loop\n",
    "    # through set sets A and B.\n",
    "    return {a + b for a in A for b in B}"
   ]
  },
  {
   "cell_type": "code",
   "execution_count": 76,
   "metadata": {},
   "outputs": [
    {
     "name": "stdout",
     "output_type": "stream",
     "text": [
      "Urn contains 23 balls.\n"
     ]
    },
    {
     "data": {
      "text/plain": [
       "{'B1',\n",
       " 'B2',\n",
       " 'B3',\n",
       " 'B4',\n",
       " 'B5',\n",
       " 'B6',\n",
       " 'R1',\n",
       " 'R2',\n",
       " 'R3',\n",
       " 'R4',\n",
       " 'R5',\n",
       " 'R6',\n",
       " 'R7',\n",
       " 'R8',\n",
       " 'R9',\n",
       " 'W1',\n",
       " 'W2',\n",
       " 'W3',\n",
       " 'W4',\n",
       " 'W5',\n",
       " 'W6',\n",
       " 'W7',\n",
       " 'W8'}"
      ]
     },
     "execution_count": 76,
     "metadata": {},
     "output_type": "execute_result"
    }
   ],
   "source": [
    "# Label the balls in the urn and place in a set\n",
    "# The | operator performs a union for python sets\n",
    "urnSet = cross('W', '12345678') | cross('B', '123456') | cross('R', '123456789') \n",
    "print(\"Urn contains\", len(urnSet), \"balls.\")\n",
    "urnSet"
   ]
  },
  {
   "cell_type": "markdown",
   "metadata": {},
   "source": [
    "Now we can define the sample space, U6, as the set of all 6-ball combinations. We use *itertools.combinations* to generate the combinations, and then join each combination into a string:"
   ]
  },
  {
   "cell_type": "code",
   "execution_count": 77,
   "metadata": {},
   "outputs": [],
   "source": [
    "# Itertools provide handy functions to manipulate lists etc.\n",
    "import itertools\n",
    "\n",
    "def combos(items, n):\n",
    "    \"\"\"\n",
    "    Produce all all combinations of n items in a set. \n",
    "    Return each combo as a concatenated string in a list.\n",
    "    \"\"\"\n",
    "    \n",
    "    return {' '.join(combo) \n",
    "            for combo in itertools.combinations(items, n)}  "
   ]
  },
  {
   "cell_type": "code",
   "execution_count": 78,
   "metadata": {},
   "outputs": [
    {
     "name": "stdout",
     "output_type": "stream",
     "text": [
      "The total number of samples is  100947\n",
      "Here is a random selection:\n"
     ]
    },
    {
     "data": {
      "text/plain": [
       "['W4 R2 R6 R4 B5 R9',\n",
       " 'R2 W6 R1 B3 W1 B5',\n",
       " 'W4 R5 R6 R3 B3 W8',\n",
       " 'R6 W3 R3 W7 B2 B4',\n",
       " 'R8 R4 W2 W1 W7 W5',\n",
       " 'R3 B3 W2 B5 R7 B6',\n",
       " 'W4 R6 W3 R9 B6 W5',\n",
       " 'R2 W3 W2 B5 R7 R9',\n",
       " 'R8 W6 W3 W1 R7 R9',\n",
       " 'W4 W6 B3 R9 B1 W5']"
      ]
     },
     "execution_count": 78,
     "metadata": {},
     "output_type": "execute_result"
    }
   ],
   "source": [
    "U6 = combos(urnSet, 6)\n",
    "\n",
    "print(\"The total number of samples is \", len(U6))\n",
    "print(\"Here is a random selection:\")\n",
    "import random\n",
    "random.sample(U6, 10)"
   ]
  },
  {
   "cell_type": "markdown",
   "metadata": {},
   "source": [
    "Is 100,947 really the right number of ways of choosing 6 out of 23 items, or  \"23 choose 6\", as  mathematicians [call it](https://en.wikipedia.org/wiki/Combination)?  Well, we can choose any of 23 for the first item, any of 22 for the second, and so on down to 18 for the sixth. But we don't care about the ordering of the six items, so we divide the product by 6! (the number of permutations of 6 things) giving us:\n",
    "\n",
    "$$23 ~\\mbox{choose}~ 6 = \\frac{23 \\cdot 22 \\cdot 21 \\cdot 20 \\cdot 19 \\cdot 18}{6!} = 100947$$\n",
    "\n",
    "Note that $23 \\cdot 22 \\cdot 21 \\cdot 20 \\cdot 19 \\cdot 18 = 23! \\;/\\; 17!$, so, generalizing, we can write:\n",
    "\n",
    "$$n ~\\mbox{choose}~ c = \\frac{n!}{(n - c)! \\cdot c!}$$\n",
    "\n",
    "And we can translate that to code and verify that 23 choose 6 is 100,947:"
   ]
  },
  {
   "cell_type": "code",
   "execution_count": 79,
   "metadata": {},
   "outputs": [],
   "source": [
    "from math import factorial\n",
    "\n",
    "def choose(n, c):\n",
    "    \"\"\"\n",
    "    Return the number of ways to choose\n",
    "    c items from a list of n items.\n",
    "    \"\"\"\n",
    "    \n",
    "    return factorial(n) // (factorial(n - c) * factorial(c))"
   ]
  },
  {
   "cell_type": "code",
   "execution_count": 80,
   "metadata": {},
   "outputs": [
    {
     "data": {
      "text/plain": [
       "100947"
      ]
     },
     "execution_count": 80,
     "metadata": {},
     "output_type": "execute_result"
    }
   ],
   "source": [
    "#How many ways to choose 6 balls from 23\n",
    "choose(23, 6)"
   ]
  },
  {
   "cell_type": "markdown",
   "metadata": {},
   "source": [
    "Now we are redy to answer the 3 problems:\n",
    "\n",
    "**1. Probability of choosing 6 red balls**\n",
    "\n"
   ]
  },
  {
   "cell_type": "code",
   "execution_count": 83,
   "metadata": {},
   "outputs": [
    {
     "name": "stdout",
     "output_type": "stream",
     "text": [
      "The total number of valid samples is  84\n"
     ]
    },
    {
     "data": {
      "text/plain": [
       "['R2 R5 R6 R1 R3 R9',\n",
       " 'R8 R5 R4 R3 R7 R9',\n",
       " 'R8 R5 R6 R1 R7 R9',\n",
       " 'R2 R8 R5 R4 R1 R9',\n",
       " 'R5 R6 R4 R1 R7 R9']"
      ]
     },
     "execution_count": 83,
     "metadata": {},
     "output_type": "execute_result"
    }
   ],
   "source": [
    "# First make a subset of U6 (the total number of samples)\n",
    "# that contains only combinations of red balls.\n",
    "# To do this, we loop through each combination string\n",
    "# count the number of 'R's and keep those with 6.\n",
    "red6 = {s for s in U6 if s.count('R') == 6}\n",
    "print(\"The total number of valid samples is \", len(red6))\n",
    "random.sample(red6, 5)"
   ]
  },
  {
   "cell_type": "markdown",
   "metadata": {},
   "source": [
    "We can also see that the total number of samples is 84 because there are 9 red balls and we are asked to choose 6:\n",
    "\n",
    "$$n ~\\mbox{choose}~ c = \\frac{n!}{(n - c)! \\cdot c!} = \\frac{9!}{(9 - 3)! \\cdot 6!} = 84 $$\n"
   ]
  },
  {
   "cell_type": "code",
   "execution_count": 82,
   "metadata": {},
   "outputs": [
    {
     "data": {
      "text/plain": [
       "84"
      ]
     },
     "execution_count": 82,
     "metadata": {},
     "output_type": "execute_result"
    }
   ],
   "source": [
    "# Or from our python function\n",
    "choose(9, 6)"
   ]
  },
  {
   "cell_type": "markdown",
   "metadata": {},
   "source": [
    "So the probabilty of 6 red balls is then just 9 choose 6 divided by the size of the sample space:"
   ]
  },
  {
   "cell_type": "code",
   "execution_count": 65,
   "metadata": {},
   "outputs": [
    {
     "data": {
      "text/plain": [
       "Fraction(4, 4807)"
      ]
     },
     "execution_count": 65,
     "metadata": {},
     "output_type": "execute_result"
    }
   ],
   "source": [
    "# Longwinded way\n",
    "Fraction(choose(9, 6), len(U6))"
   ]
  },
  {
   "cell_type": "code",
   "execution_count": 66,
   "metadata": {},
   "outputs": [
    {
     "data": {
      "text/plain": [
       "Fraction(4, 4807)"
      ]
     },
     "execution_count": 66,
     "metadata": {},
     "output_type": "execute_result"
    }
   ],
   "source": [
    "# Using our probability function\n",
    "P(red6, U6)"
   ]
  },
  {
   "cell_type": "markdown",
   "metadata": {},
   "source": [
    "**2. Probability of choosing 3 blue, 2 white and 1 red balls**"
   ]
  },
  {
   "cell_type": "code",
   "execution_count": 84,
   "metadata": {},
   "outputs": [
    {
     "name": "stdout",
     "output_type": "stream",
     "text": [
      "The total number of valid samples is  5040\n"
     ]
    },
    {
     "data": {
      "text/plain": [
       "['W6 R4 W1 B1 B2 B4',\n",
       " 'R4 W2 B5 B1 W7 B4',\n",
       " 'W6 B3 W1 R7 B1 B4',\n",
       " 'W4 R1 B3 W2 B2 B4',\n",
       " 'B3 W2 R7 B2 W5 B4']"
      ]
     },
     "execution_count": 84,
     "metadata": {},
     "output_type": "execute_result"
    }
   ],
   "source": [
    "# Here we can make the sample set by using 'and'\n",
    "# to combine the counts for each colour\n",
    "blue3white2red1 = {s for s in U6 if s.count('B') == 3 and \n",
    "                   s.count('W') == 2 and \n",
    "                   s.count('R') == 1}\n",
    "\n",
    "\n",
    "print(\"The total number of valid samples is \", len(blue3white2red1))\n",
    "random.sample(blue3white2red1, 5)"
   ]
  },
  {
   "cell_type": "code",
   "execution_count": 85,
   "metadata": {},
   "outputs": [
    {
     "data": {
      "text/plain": [
       "Fraction(240, 4807)"
      ]
     },
     "execution_count": 85,
     "metadata": {},
     "output_type": "execute_result"
    }
   ],
   "source": [
    "# Using our probability function\n",
    "P(blue3white2red1, U6)"
   ]
  },
  {
   "cell_type": "markdown",
   "metadata": {},
   "source": [
    "We can also calculate the probability by multiplying the individual choice functions and dividing by the total number of samples."
   ]
  },
  {
   "cell_type": "code",
   "execution_count": 86,
   "metadata": {},
   "outputs": [
    {
     "data": {
      "text/plain": [
       "Fraction(240, 4807)"
      ]
     },
     "execution_count": 86,
     "metadata": {},
     "output_type": "execute_result"
    }
   ],
   "source": [
    "Fraction(choose(6, 3) * choose(8, 2) * choose(9, 1), len(U6))"
   ]
  },
  {
   "cell_type": "markdown",
   "metadata": {},
   "source": [
    "The choose operation already applies the factorial to account for degerate permutaations, but we could aslo expand this out further:"
   ]
  },
  {
   "cell_type": "code",
   "execution_count": 70,
   "metadata": {},
   "outputs": [
    {
     "data": {
      "text/plain": [
       "Fraction(240, 4807)"
      ]
     },
     "execution_count": 70,
     "metadata": {},
     "output_type": "execute_result"
    }
   ],
   "source": [
    "Fraction((6 * 5 * 4) * (8 * 7) * 9, \n",
    "         factorial(3) * factorial(2) * len(U6))"
   ]
  },
  {
   "cell_type": "markdown",
   "metadata": {},
   "source": [
    "**3. Probability of choosing 4 white balls in any choice of 6 - exercise**\n",
    "\n",
    "We can interpret this as choosing 4 out of the 8 white balls, and 2 out of the 15 non-white balls."
   ]
  },
  {
   "cell_type": "markdown",
   "metadata": {},
   "source": [
    "## Discrete Probability Disributions\n",
    "\n",
    "In the exercise above we assumed that every outcome in a sample space was equally likely. When dealing with scientific data this is rarely the case. Instead, some outcomes are much more probable than others and a *probability distribution* maps a range of outcomes to frequency of those outcomes in the sample space. On other words, probability distributions characterise the spread of expected values for an event. In frequentist terms, this is the shape of the histogram of values after a large number of events have occured. As scientists, we often want to describe distributions in easy-to-understand numbers and we do this via their their *moments*.\n",
    "\n",
    "### Moments\n",
    "\n",
    "The $n^{th}$ moment of a distribution is given by \n",
    "\n",
    "$m_n = \\langle x^n \\rangle = \\int_{-\\infty}^{+\\infty} dx ~ x^n ~ p(x)$\n",
    "\n",
    "where angle brackets denote *expectation value*. \n",
    "\n",
    "* **The Zeroth Moment** gives the area of the curve under the probability distribution.\n",
    " \n",
    "$m_0 = \\int_{-\\infty}^{+\\infty} dx ~ p(x) = 1$.\n",
    " \n",
    "Remember that (from the sum rule) probability distributions are normalised so the integral under the curve sums to one.\n",
    "\n",
    " * **The First Moment** gives the expectation value of x, which is the **mean** of the distribution.\n",
    " \n",
    " $m_1 = \\langle x \\rangle$.\n",
    " \n",
    "Higher moments characterise the spread or shape of the distribution and it useful to calculate these as *centred moments* by shifting the distribution to have a mean of zero. The $n^{th}$ centred moment $\\mu_n$ is given by\n",
    "\n",
    "$\\mu_n = \\langle ~ (x - \\langle x \\rangle)^n ~ \\rangle$.\n",
    "\n",
    "* The **Second Centred Moment** gives the *spread* or **variance** about the mean, also denoted $\\sigma^2$:\n",
    "\n",
    "$\\mu_2 = \\sigma^2 = \\langle ~ (x - \\langle x \\rangle)^2 ~ \\rangle$.\n",
    "\n",
    "This can be multiplied out to get a simple result:\n",
    "\n",
    "$\\sigma^2 = \\langle ~ (x^2 - 2x\\langle x \\rangle + \\langle x \\rangle^2 ) ~ \\rangle = \\langle x^2 \\rangle - \\langle x \\rangle^2$, \n",
    "\n",
    "showing that in practice the variance can be calculated from the mean of the square, minus the square of the mean. The **standard deviation** $\\sigma$ is just the square-root of the variance, also known as the *root-mean-square (rms) error*.\n",
    "\n",
    "$\\sigma = rms = \\sqrt{\\langle x^2 \\rangle - \\langle x \\rangle^2}$\n",
    "\n",
    "Higher moments characterise the shape of the distribution\n",
    "\n",
    "* The **Third Centred Moment** gives the **skewness** or asymmetry of the distribution.\n",
    "\n",
    "* The **Forth Centred Moment** give the **kurtosis** or flatness of the distribution."
   ]
  },
  {
   "cell_type": "markdown",
   "metadata": {},
   "source": [
    "### The Uniform Distribution\n",
    "\n",
    "In the Urn Problem above all outcomes had the same probability, that is they were drawn from a *uniform distribution* between two limits $a$ and $b$. Probability distributions are normalised so that the area under their curves is equal to one, i.e., the probability of an outcome in the range is certain. The uniform distribution is a *top hat function* with height $1 \\big{/}(b-a)$. We can use *scipy* and the *seaborn* plotting package to sample data from a uniform distribution and visualise it:"
   ]
  },
  {
   "cell_type": "code",
   "execution_count": 91,
   "metadata": {},
   "outputs": [
    {
     "name": "stdout",
     "output_type": "stream",
     "text": [
      "<class 'numpy.ndarray'>\n",
      "[24.10627704 21.54304712 30.47997888 ... 22.84371083 31.98905931\n",
      " 30.24843704]\n"
     ]
    }
   ],
   "source": [
    "from scipy.stats import uniform\n",
    "\n",
    "# Set the properties of the sample from a uniform distribution\n",
    "n = 5000\n",
    "startX = 15\n",
    "width = 20\n",
    "\n",
    "# Generate a sample\n",
    "data = uniform.rvs(size=n, loc=startX, scale=width)\n",
    "print(type(data))\n",
    "print(data)"
   ]
  },
  {
   "cell_type": "markdown",
   "metadata": {},
   "source": [
    "You can see that scipy returns a Numpy array containing values between 15 and 35."
   ]
  },
  {
   "cell_type": "code",
   "execution_count": 101,
   "metadata": {},
   "outputs": [
    {
     "data": {
      "text/plain": [
       "[Text(0, 0.5, 'Frequency'), Text(0.5, 0, 'Uniform Distribution ')]"
      ]
     },
     "execution_count": 101,
     "metadata": {},
     "output_type": "execute_result"
    },
    {
     "data": {
      "image/png": "[encoded data removed]",
      "text/plain": [
       "<Figure size 432x288 with 1 Axes>"
      ]
     },
     "metadata": {
      "needs_background": "light"
     },
     "output_type": "display_data"
    }
   ],
   "source": [
    "import seaborn as sns\n",
    "\n",
    "# Make a histogram with Seaborn distplot\n",
    "ax = sns.distplot(data, bins=100, kde=True)\n",
    "ax.set(xlabel='Uniform Distribution ', ylabel='Frequency')"
   ]
  },
  {
   "cell_type": "code",
   "execution_count": 120,
   "metadata": {},
   "outputs": [
    {
     "name": "stdout",
     "output_type": "stream",
     "text": [
      "The mean is 24.95\n",
      "The standard deviation is 5.71\n",
      "The 0-th moment (area under curve) is 1.00\n"
     ]
    }
   ],
   "source": [
    "import numpy as np\n",
    "from scipy import stats\n",
    "\n",
    "# Estimate the parameters of the distribution\n",
    "print(\"The mean is {:.2f}\".format(np.mean(data)))\n",
    "print(\"The standard deviation is {:.2f}\".format(np.std(data)))\n",
    "print(\"The 0-th moment (area under curve) is {:.2f}\".format(stats.moment(data, moment=0)))"
   ]
  },
  {
   "cell_type": "markdown",
   "metadata": {},
   "source": [
    "### Gaussian Distribution\n",
    "\n",
    "The Gaussian (or Normal) distribution is one of the most important in science as most measurements, variables values, or probabilities in a dataset or problem will be distributed in the shape of this curve. The *Central Limit Theorem* states that if you have a collection of random variables and sum them up, then the larger the collection, the closer the sum will be to a normal distribution.\n",
    "\n",
    "The equation for a normalised Gaussian distribution is\n",
    "\n",
    "$$f(x|\\mu, \\sigma) = \\frac{1}{\\sqrt{2 \\pi \\sigma^2}} exp \\left [ {-\\frac{(x - \\mu)^2}{2 \\sigma^2}} \\right]$$\n",
    "\n",
    "where $\\mu$ and $sigma$ are the mean and standard deviation of the distribution, respectively. We can sample some data from the distribution and visualise it as before:"
   ]
  },
  {
   "cell_type": "code",
   "execution_count": 121,
   "metadata": {},
   "outputs": [
    {
     "data": {
      "text/plain": [
       "[Text(0, 0.5, 'Frequency'), Text(0.5, 0, 'Uniform Distribution ')]"
      ]
     },
     "execution_count": 121,
     "metadata": {},
     "output_type": "execute_result"
    },
    {
     "data": {
      "image/png": "[encoded data removed]",
      "text/plain": [
       "<Figure size 432x288 with 1 Axes>"
      ]
     },
     "metadata": {
      "needs_background": "light"
     },
     "output_type": "display_data"
    }
   ],
   "source": [
    "from scipy.stats import norm\n",
    "\n",
    "# Generate the data\n",
    "data = norm.rvs(size=10000,loc=0,scale=1)\n",
    "\n",
    "# Make a histogram with Seaborn distplot\n",
    "ax = sns.distplot(data, bins=100, kde=True)\n",
    "ax.set(xlabel='Uniform Distribution ', ylabel='Frequency')"
   ]
  },
  {
   "cell_type": "markdown",
   "metadata": {},
   "source": [
    "and again we can just estimate the parameters as before:"
   ]
  },
  {
   "cell_type": "code",
   "execution_count": 122,
   "metadata": {},
   "outputs": [
    {
     "name": "stdout",
     "output_type": "stream",
     "text": [
      "The mean is 0.01\n",
      "The standard deviation is 1.00\n",
      "The 0-th moment (area under curve) is 1.00\n"
     ]
    }
   ],
   "source": [
    "# Estimate the parameters of the distribution\n",
    "print(\"The mean is {:.2f}\".format(np.mean(data)))\n",
    "print(\"The standard deviation is {:.2f}\".format(np.std(data)))\n",
    "print(\"The 0-th moment (area under curve) is {:.2f}\".format(stats.moment(data, moment=0)))"
   ]
  },
  {
   "cell_type": "code",
   "execution_count": 123,
   "metadata": {},
   "outputs": [
    {
     "data": {
      "image/png": "[encoded data removed]",
      "text/plain": [
       "<IPython.core.display.Image object>"
      ]
     },
     "execution_count": 123,
     "metadata": {},
     "output_type": "execute_result"
    }
   ],
   "source": [
    "from IPython.display import Image\n",
    "Image(filename='Images/gaussiandensity.png')"
   ]
  },
  {
   "cell_type": "markdown",
   "metadata": {},
   "source": [
    "In science, we quote experimental results as $\\sigma$ confidence levels. For example, the if the distribution described the background *noise* of an observation, then a result of '17' would sit at the $2\\sigma$ confidence level - 95.4% of all random events would return values closer to the mean."
   ]
  }
 ],
 "metadata": {
  "kernelspec": {
   "display_name": "Python 3",
   "language": "python",
   "name": "python3"
  },
  "language_info": {
   "codemirror_mode": {
    "name": "ipython",
    "version": 3
   },
   "file_extension": ".py",
   "mimetype": "text/x-python",
   "name": "python",
   "nbconvert_exporter": "python",
   "pygments_lexer": "ipython3",
   "version": "3.7.5"
  }
 },
 "nbformat": 4,
 "nbformat_minor": 2
}
